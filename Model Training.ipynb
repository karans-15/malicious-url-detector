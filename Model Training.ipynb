{
 "cells": [
  {
   "cell_type": "code",
   "execution_count": 1,
   "id": "roman-calculation",
   "metadata": {},
   "outputs": [],
   "source": [
    "from scipy.io import arff\n",
    "import pandas as pd\n",
    "import numpy as np\n",
    "import seaborn as sns\n",
    "import matplotlib.pyplot as plt\n",
    "from sklearn.preprocessing import OneHotEncoder, LabelEncoder, OrdinalEncoder\n",
    "from sklearn.model_selection import train_test_split, KFold"
   ]
  },
  {
   "cell_type": "code",
   "execution_count": 2,
   "id": "small-reform",
   "metadata": {},
   "outputs": [],
   "source": [
    "%matplotlib inline"
   ]
  },
  {
   "cell_type": "code",
   "execution_count": 3,
   "id": "limited-socket",
   "metadata": {},
   "outputs": [],
   "source": [
    "def getProcessedDataFrame(filepath):\n",
    "    dataset = arff.loadarff(filepath)\n",
    "    df = pd.DataFrame(dataset[0])\n",
    "    str_df = df.select_dtypes([np.object]) \n",
    "    str_df = str_df.stack().str.decode('utf-8').unstack()\n",
    "\n",
    "    for col in str_df.columns:\n",
    "        str_df[col] = str_df[col].astype(int)\n",
    "    return str_df"
   ]
  },
  {
   "cell_type": "code",
   "execution_count": 4,
   "id": "shaped-nicaragua",
   "metadata": {},
   "outputs": [
    {
     "name": "stderr",
     "output_type": "stream",
     "text": [
      "<ipython-input-3-f318a902d841>:4: DeprecationWarning: `np.object` is a deprecated alias for the builtin `object`. To silence this warning, use `object` by itself. Doing this will not modify any behavior and is safe. \n",
      "Deprecated in NumPy 1.20; for more details and guidance: https://numpy.org/devdocs/release/1.20.0-notes.html#deprecations\n",
      "  str_df = df.select_dtypes([np.object])\n"
     ]
    },
    {
     "name": "stdout",
     "output_type": "stream",
     "text": [
      "Index(['having_IP_Address', 'URL_Length', 'Shortining_Service',\n",
      "       'having_At_Symbol', 'double_slash_redirecting', 'Prefix_Suffix',\n",
      "       'having_Sub_Domain', 'SSLfinal_State', 'Domain_registeration_length',\n",
      "       'Favicon', 'port', 'HTTPS_token', 'Request_URL', 'URL_of_Anchor',\n",
      "       'Links_in_tags', 'SFH', 'Submitting_to_email', 'Abnormal_URL',\n",
      "       'Redirect', 'on_mouseover', 'RightClick', 'popUpWidnow', 'Iframe',\n",
      "       'age_of_domain', 'DNSRecord', 'web_traffic', 'Page_Rank',\n",
      "       'Google_Index', 'Links_pointing_to_page', 'Statistical_report',\n",
      "       'Result'],\n",
      "      dtype='object')\n"
     ]
    }
   ],
   "source": [
    "complete_training = getProcessedDataFrame(\"Training Dataset.arff\")\n",
    "print(complete_training.columns)\n",
    "\n",
    "#We will not include: SSLfinal_State,Domain_registration_length,port,Abnormal_URL,Redirect,popUpWindow,Google_Index,Links_pointing_to_page,Statistical_report\n",
    "reduced_df = complete_training[['having_IP_Address', 'URL_Length', 'Shortining_Service',\n",
    "       'having_At_Symbol', 'double_slash_redirecting', 'Prefix_Suffix',\n",
    "       'having_Sub_Domain','Favicon', 'HTTPS_token', 'Request_URL', 'URL_of_Anchor',\n",
    "       'Links_in_tags', 'SFH', 'Submitting_to_email','on_mouseover', 'RightClick', 'Iframe',\n",
    "       'age_of_domain', 'DNSRecord', 'web_traffic', 'Page_Rank','Result']]"
   ]
  },
  {
   "cell_type": "code",
   "execution_count": 5,
   "id": "wicked-modification",
   "metadata": {},
   "outputs": [
    {
     "data": {
      "text/plain": [
       " 1    6157\n",
       "-1    4898\n",
       "Name: Result, dtype: int64"
      ]
     },
     "execution_count": 5,
     "metadata": {},
     "output_type": "execute_result"
    }
   ],
   "source": [
    "complete_training['Result'].value_counts()"
   ]
  },
  {
   "cell_type": "markdown",
   "id": "flexible-abortion",
   "metadata": {},
   "source": [
    "## Metrics to evaluate this Project:\n",
    "\n",
    "Because the data we have is balanced (around 55:45%) we will consider ACCURACY as our major metric. We will also have to ensure that we will have a minimal TYPE ONE error (Minimize false positives)(FPR). \n",
    "This is because it is important that the user does not enter an unsafe url. We can tradeoff classifying a safe url as unsafe for the same reason as well."
   ]
  },
  {
   "cell_type": "code",
   "execution_count": 6,
   "id": "official-symbol",
   "metadata": {},
   "outputs": [],
   "source": [
    "#We encode the data into positive values as our algorithms work better then\n",
    "def convertEncodingToPositive(dataframe):\n",
    "\n",
    "    mapping = {-1: 2, 0: 0, 1: 1}\n",
    "\n",
    "    col_map = {}\n",
    "\n",
    "    for col in dataframe:\n",
    "        col_map[col] = mapping\n",
    "\n",
    "    for i in range(dataframe.shape[0]):\n",
    "        for j in range(dataframe.shape[1]):\n",
    "            dataframe.loc[i][j] = mapping[dataframe.loc[i][j]]"
   ]
  },
  {
   "cell_type": "code",
   "execution_count": 7,
   "id": "corresponding-array",
   "metadata": {},
   "outputs": [
    {
     "data": {
      "text/html": [
       "<div>\n",
       "<style scoped>\n",
       "    .dataframe tbody tr th:only-of-type {\n",
       "        vertical-align: middle;\n",
       "    }\n",
       "\n",
       "    .dataframe tbody tr th {\n",
       "        vertical-align: top;\n",
       "    }\n",
       "\n",
       "    .dataframe thead th {\n",
       "        text-align: right;\n",
       "    }\n",
       "</style>\n",
       "<table border=\"1\" class=\"dataframe\">\n",
       "  <thead>\n",
       "    <tr style=\"text-align: right;\">\n",
       "      <th></th>\n",
       "      <th>having_IP_Address</th>\n",
       "      <th>URL_Length</th>\n",
       "      <th>Shortining_Service</th>\n",
       "      <th>having_At_Symbol</th>\n",
       "      <th>double_slash_redirecting</th>\n",
       "      <th>Prefix_Suffix</th>\n",
       "      <th>having_Sub_Domain</th>\n",
       "      <th>Favicon</th>\n",
       "      <th>HTTPS_token</th>\n",
       "      <th>Request_URL</th>\n",
       "      <th>...</th>\n",
       "      <th>SFH</th>\n",
       "      <th>Submitting_to_email</th>\n",
       "      <th>on_mouseover</th>\n",
       "      <th>RightClick</th>\n",
       "      <th>Iframe</th>\n",
       "      <th>age_of_domain</th>\n",
       "      <th>DNSRecord</th>\n",
       "      <th>web_traffic</th>\n",
       "      <th>Page_Rank</th>\n",
       "      <th>Result</th>\n",
       "    </tr>\n",
       "  </thead>\n",
       "  <tbody>\n",
       "    <tr>\n",
       "      <th>0</th>\n",
       "      <td>2</td>\n",
       "      <td>1</td>\n",
       "      <td>1</td>\n",
       "      <td>1</td>\n",
       "      <td>2</td>\n",
       "      <td>2</td>\n",
       "      <td>2</td>\n",
       "      <td>1</td>\n",
       "      <td>2</td>\n",
       "      <td>1</td>\n",
       "      <td>...</td>\n",
       "      <td>2</td>\n",
       "      <td>2</td>\n",
       "      <td>1</td>\n",
       "      <td>1</td>\n",
       "      <td>1</td>\n",
       "      <td>2</td>\n",
       "      <td>2</td>\n",
       "      <td>2</td>\n",
       "      <td>2</td>\n",
       "      <td>2</td>\n",
       "    </tr>\n",
       "    <tr>\n",
       "      <th>1</th>\n",
       "      <td>1</td>\n",
       "      <td>1</td>\n",
       "      <td>1</td>\n",
       "      <td>1</td>\n",
       "      <td>1</td>\n",
       "      <td>2</td>\n",
       "      <td>0</td>\n",
       "      <td>1</td>\n",
       "      <td>2</td>\n",
       "      <td>1</td>\n",
       "      <td>...</td>\n",
       "      <td>2</td>\n",
       "      <td>1</td>\n",
       "      <td>1</td>\n",
       "      <td>1</td>\n",
       "      <td>1</td>\n",
       "      <td>2</td>\n",
       "      <td>2</td>\n",
       "      <td>0</td>\n",
       "      <td>2</td>\n",
       "      <td>2</td>\n",
       "    </tr>\n",
       "    <tr>\n",
       "      <th>2</th>\n",
       "      <td>1</td>\n",
       "      <td>0</td>\n",
       "      <td>1</td>\n",
       "      <td>1</td>\n",
       "      <td>1</td>\n",
       "      <td>2</td>\n",
       "      <td>2</td>\n",
       "      <td>1</td>\n",
       "      <td>2</td>\n",
       "      <td>1</td>\n",
       "      <td>...</td>\n",
       "      <td>2</td>\n",
       "      <td>2</td>\n",
       "      <td>1</td>\n",
       "      <td>1</td>\n",
       "      <td>1</td>\n",
       "      <td>1</td>\n",
       "      <td>2</td>\n",
       "      <td>1</td>\n",
       "      <td>2</td>\n",
       "      <td>2</td>\n",
       "    </tr>\n",
       "    <tr>\n",
       "      <th>3</th>\n",
       "      <td>1</td>\n",
       "      <td>0</td>\n",
       "      <td>1</td>\n",
       "      <td>1</td>\n",
       "      <td>1</td>\n",
       "      <td>2</td>\n",
       "      <td>2</td>\n",
       "      <td>1</td>\n",
       "      <td>2</td>\n",
       "      <td>2</td>\n",
       "      <td>...</td>\n",
       "      <td>2</td>\n",
       "      <td>1</td>\n",
       "      <td>1</td>\n",
       "      <td>1</td>\n",
       "      <td>1</td>\n",
       "      <td>2</td>\n",
       "      <td>2</td>\n",
       "      <td>1</td>\n",
       "      <td>2</td>\n",
       "      <td>2</td>\n",
       "    </tr>\n",
       "    <tr>\n",
       "      <th>4</th>\n",
       "      <td>1</td>\n",
       "      <td>0</td>\n",
       "      <td>2</td>\n",
       "      <td>1</td>\n",
       "      <td>1</td>\n",
       "      <td>2</td>\n",
       "      <td>1</td>\n",
       "      <td>1</td>\n",
       "      <td>1</td>\n",
       "      <td>1</td>\n",
       "      <td>...</td>\n",
       "      <td>2</td>\n",
       "      <td>1</td>\n",
       "      <td>2</td>\n",
       "      <td>1</td>\n",
       "      <td>1</td>\n",
       "      <td>2</td>\n",
       "      <td>2</td>\n",
       "      <td>0</td>\n",
       "      <td>2</td>\n",
       "      <td>1</td>\n",
       "    </tr>\n",
       "    <tr>\n",
       "      <th>...</th>\n",
       "      <td>...</td>\n",
       "      <td>...</td>\n",
       "      <td>...</td>\n",
       "      <td>...</td>\n",
       "      <td>...</td>\n",
       "      <td>...</td>\n",
       "      <td>...</td>\n",
       "      <td>...</td>\n",
       "      <td>...</td>\n",
       "      <td>...</td>\n",
       "      <td>...</td>\n",
       "      <td>...</td>\n",
       "      <td>...</td>\n",
       "      <td>...</td>\n",
       "      <td>...</td>\n",
       "      <td>...</td>\n",
       "      <td>...</td>\n",
       "      <td>...</td>\n",
       "      <td>...</td>\n",
       "      <td>...</td>\n",
       "      <td>...</td>\n",
       "    </tr>\n",
       "    <tr>\n",
       "      <th>11050</th>\n",
       "      <td>1</td>\n",
       "      <td>2</td>\n",
       "      <td>1</td>\n",
       "      <td>2</td>\n",
       "      <td>1</td>\n",
       "      <td>1</td>\n",
       "      <td>1</td>\n",
       "      <td>2</td>\n",
       "      <td>1</td>\n",
       "      <td>1</td>\n",
       "      <td>...</td>\n",
       "      <td>2</td>\n",
       "      <td>2</td>\n",
       "      <td>2</td>\n",
       "      <td>2</td>\n",
       "      <td>2</td>\n",
       "      <td>1</td>\n",
       "      <td>1</td>\n",
       "      <td>2</td>\n",
       "      <td>2</td>\n",
       "      <td>1</td>\n",
       "    </tr>\n",
       "    <tr>\n",
       "      <th>11051</th>\n",
       "      <td>2</td>\n",
       "      <td>1</td>\n",
       "      <td>1</td>\n",
       "      <td>2</td>\n",
       "      <td>2</td>\n",
       "      <td>2</td>\n",
       "      <td>1</td>\n",
       "      <td>2</td>\n",
       "      <td>1</td>\n",
       "      <td>1</td>\n",
       "      <td>...</td>\n",
       "      <td>0</td>\n",
       "      <td>2</td>\n",
       "      <td>2</td>\n",
       "      <td>1</td>\n",
       "      <td>1</td>\n",
       "      <td>1</td>\n",
       "      <td>1</td>\n",
       "      <td>1</td>\n",
       "      <td>1</td>\n",
       "      <td>2</td>\n",
       "    </tr>\n",
       "    <tr>\n",
       "      <th>11052</th>\n",
       "      <td>1</td>\n",
       "      <td>2</td>\n",
       "      <td>1</td>\n",
       "      <td>1</td>\n",
       "      <td>1</td>\n",
       "      <td>2</td>\n",
       "      <td>1</td>\n",
       "      <td>1</td>\n",
       "      <td>1</td>\n",
       "      <td>1</td>\n",
       "      <td>...</td>\n",
       "      <td>2</td>\n",
       "      <td>1</td>\n",
       "      <td>1</td>\n",
       "      <td>1</td>\n",
       "      <td>1</td>\n",
       "      <td>1</td>\n",
       "      <td>1</td>\n",
       "      <td>1</td>\n",
       "      <td>2</td>\n",
       "      <td>2</td>\n",
       "    </tr>\n",
       "    <tr>\n",
       "      <th>11053</th>\n",
       "      <td>2</td>\n",
       "      <td>2</td>\n",
       "      <td>1</td>\n",
       "      <td>1</td>\n",
       "      <td>1</td>\n",
       "      <td>2</td>\n",
       "      <td>2</td>\n",
       "      <td>2</td>\n",
       "      <td>1</td>\n",
       "      <td>2</td>\n",
       "      <td>...</td>\n",
       "      <td>2</td>\n",
       "      <td>1</td>\n",
       "      <td>2</td>\n",
       "      <td>1</td>\n",
       "      <td>1</td>\n",
       "      <td>1</td>\n",
       "      <td>1</td>\n",
       "      <td>1</td>\n",
       "      <td>2</td>\n",
       "      <td>2</td>\n",
       "    </tr>\n",
       "    <tr>\n",
       "      <th>11054</th>\n",
       "      <td>2</td>\n",
       "      <td>2</td>\n",
       "      <td>1</td>\n",
       "      <td>1</td>\n",
       "      <td>1</td>\n",
       "      <td>2</td>\n",
       "      <td>2</td>\n",
       "      <td>1</td>\n",
       "      <td>1</td>\n",
       "      <td>2</td>\n",
       "      <td>...</td>\n",
       "      <td>2</td>\n",
       "      <td>1</td>\n",
       "      <td>1</td>\n",
       "      <td>1</td>\n",
       "      <td>1</td>\n",
       "      <td>2</td>\n",
       "      <td>1</td>\n",
       "      <td>2</td>\n",
       "      <td>2</td>\n",
       "      <td>2</td>\n",
       "    </tr>\n",
       "  </tbody>\n",
       "</table>\n",
       "<p>11055 rows × 22 columns</p>\n",
       "</div>"
      ],
      "text/plain": [
       "       having_IP_Address  URL_Length  Shortining_Service  having_At_Symbol  \\\n",
       "0                      2           1                   1                 1   \n",
       "1                      1           1                   1                 1   \n",
       "2                      1           0                   1                 1   \n",
       "3                      1           0                   1                 1   \n",
       "4                      1           0                   2                 1   \n",
       "...                  ...         ...                 ...               ...   \n",
       "11050                  1           2                   1                 2   \n",
       "11051                  2           1                   1                 2   \n",
       "11052                  1           2                   1                 1   \n",
       "11053                  2           2                   1                 1   \n",
       "11054                  2           2                   1                 1   \n",
       "\n",
       "       double_slash_redirecting  Prefix_Suffix  having_Sub_Domain  Favicon  \\\n",
       "0                             2              2                  2        1   \n",
       "1                             1              2                  0        1   \n",
       "2                             1              2                  2        1   \n",
       "3                             1              2                  2        1   \n",
       "4                             1              2                  1        1   \n",
       "...                         ...            ...                ...      ...   \n",
       "11050                         1              1                  1        2   \n",
       "11051                         2              2                  1        2   \n",
       "11052                         1              2                  1        1   \n",
       "11053                         1              2                  2        2   \n",
       "11054                         1              2                  2        1   \n",
       "\n",
       "       HTTPS_token  Request_URL  ...  SFH  Submitting_to_email  on_mouseover  \\\n",
       "0                2            1  ...    2                    2             1   \n",
       "1                2            1  ...    2                    1             1   \n",
       "2                2            1  ...    2                    2             1   \n",
       "3                2            2  ...    2                    1             1   \n",
       "4                1            1  ...    2                    1             2   \n",
       "...            ...          ...  ...  ...                  ...           ...   \n",
       "11050            1            1  ...    2                    2             2   \n",
       "11051            1            1  ...    0                    2             2   \n",
       "11052            1            1  ...    2                    1             1   \n",
       "11053            1            2  ...    2                    1             2   \n",
       "11054            1            2  ...    2                    1             1   \n",
       "\n",
       "       RightClick  Iframe  age_of_domain  DNSRecord  web_traffic  Page_Rank  \\\n",
       "0               1       1              2          2            2          2   \n",
       "1               1       1              2          2            0          2   \n",
       "2               1       1              1          2            1          2   \n",
       "3               1       1              2          2            1          2   \n",
       "4               1       1              2          2            0          2   \n",
       "...           ...     ...            ...        ...          ...        ...   \n",
       "11050           2       2              1          1            2          2   \n",
       "11051           1       1              1          1            1          1   \n",
       "11052           1       1              1          1            1          2   \n",
       "11053           1       1              1          1            1          2   \n",
       "11054           1       1              2          1            2          2   \n",
       "\n",
       "       Result  \n",
       "0           2  \n",
       "1           2  \n",
       "2           2  \n",
       "3           2  \n",
       "4           1  \n",
       "...       ...  \n",
       "11050       1  \n",
       "11051       2  \n",
       "11052       2  \n",
       "11053       2  \n",
       "11054       2  \n",
       "\n",
       "[11055 rows x 22 columns]"
      ]
     },
     "execution_count": 7,
     "metadata": {},
     "output_type": "execute_result"
    }
   ],
   "source": [
    "convertEncodingToPositive(reduced_df)\n",
    "reduced_df"
   ]
  },
  {
   "cell_type": "code",
   "execution_count": 8,
   "id": "attempted-photography",
   "metadata": {},
   "outputs": [],
   "source": [
    "X_reduced = reduced_df.iloc[:,0:21]\n",
    "y_reduced = reduced_df.iloc[:, -1]"
   ]
  },
  {
   "cell_type": "code",
   "execution_count": 9,
   "id": "pacific-israel",
   "metadata": {},
   "outputs": [
    {
     "name": "stdout",
     "output_type": "stream",
     "text": [
      "<class 'pandas.core.frame.DataFrame'>\n",
      "(8844, 21)\n",
      "(2211, 21)\n",
      "(8844,)\n",
      "(2211,) \n",
      "\n",
      "<class 'numpy.ndarray'>\n",
      "(8844, 21)\n",
      "(2211, 21)\n",
      "(8844,)\n",
      "(2211,)\n"
     ]
    }
   ],
   "source": [
    "#Splits data into training and test data\n",
    "#Quick utility that wraps input validation and next(ShuffleSplit().split(X, y)) and application to input data into a single call for splitting\n",
    "X_train_red, X_test_red, y_train_red, y_test_red = train_test_split(X_reduced, y_reduced, test_size=0.2, random_state=7, stratify=y_reduced)\n",
    "\n",
    "print(type(X_train_red))\n",
    "print(X_train_red.shape)\n",
    "print(X_test_red.shape)\n",
    "print(y_train_red.shape)\n",
    "print(y_test_red.shape,\"\\n\")\n",
    "X_train_red = X_train_red.to_numpy()\n",
    "X_test_red = X_test_red.to_numpy()\n",
    "y_train_red = y_train_red.to_numpy()\n",
    "y_test_red = y_test_red.to_numpy()\n",
    "\n",
    "print(type(X_train_red))\n",
    "print(X_train_red.shape)\n",
    "print(X_test_red.shape)\n",
    "print(y_train_red.shape)\n",
    "print(y_test_red.shape)"
   ]
  },
  {
   "cell_type": "code",
   "execution_count": 10,
   "id": "timely-stable",
   "metadata": {},
   "outputs": [],
   "source": [
    "#From the training and test data, we will have a 5fold spilt for cross validation\n",
    "kf = KFold(n_splits=5, shuffle=True, random_state=786)"
   ]
  },
  {
   "cell_type": "code",
   "execution_count": 11,
   "id": "detailed-receiver",
   "metadata": {},
   "outputs": [
    {
     "name": "stdout",
     "output_type": "stream",
     "text": [
      "(7075, 21) (7075,) (1769, 21) (1769,)\n",
      "(7075, 21) (7075,) (1769, 21) (1769,)\n",
      "(7075, 21) (7075,) (1769, 21) (1769,)\n",
      "(7075, 21) (7075,) (1769, 21) (1769,)\n",
      "(7076, 21) (7076,) (1768, 21) (1768,)\n"
     ]
    }
   ],
   "source": [
    "for train, test in kf.split(X_train_red):\n",
    "    print(X_train_red[train].shape, y_train_red[train].shape, X_train_red[test].shape, y_train_red[test].shape)"
   ]
  },
  {
   "cell_type": "code",
   "execution_count": 12,
   "id": "animal-relation",
   "metadata": {},
   "outputs": [],
   "source": [
    "#Confusion matrix assesses the performance of a classification model (F score types) (Precision and recall)\n",
    "from sklearn.metrics import confusion_matrix"
   ]
  },
  {
   "cell_type": "code",
   "execution_count": 13,
   "id": "coral-sitting",
   "metadata": {},
   "outputs": [],
   "source": [
    "def plot_cm(y_val, y_pred):\n",
    "    labels = [1, 0]\n",
    "    cm = confusion_matrix(y_val, y_pred, labels)\n",
    "    # print(cm)\n",
    "    fig = plt.figure()\n",
    "    ax = fig.add_subplot(111)\n",
    "    cax = ax.matshow(cm)\n",
    "    plt.title('Confusion matrix of the classifier')\n",
    "    fig.colorbar(cax)\n",
    "    ax.set_xticklabels([''] + labels)\n",
    "    ax.set_yticklabels([''] + labels)\n",
    "    plt.xlabel('Predicted')\n",
    "    plt.ylabel('True')\n",
    "    \n",
    "#tp=true positive, fn=false negative, fp=false positive, tn=true negative"
   ]
  },
  {
   "cell_type": "code",
   "execution_count": 14,
   "id": "joint-weight",
   "metadata": {},
   "outputs": [],
   "source": [
    "import pickle\n",
    "from sklearn.preprocessing import OneHotEncoder\n",
    "encoder = OneHotEncoder(sparse=False)\n",
    "X_train_red_onehot = encoder.fit_transform(X_train_red)\n",
    "X_test_red_onehot = encoder.transform(X_test_red)\n",
    "pickle.dump(encoder, open(\"One_Hot_Encoder\", 'wb'))"
   ]
  },
  {
   "cell_type": "markdown",
   "id": "posted-decade",
   "metadata": {},
   "source": [
    "## Categorical Naive Bayes"
   ]
  },
  {
   "cell_type": "code",
   "execution_count": 15,
   "id": "terminal-dressing",
   "metadata": {},
   "outputs": [],
   "source": [
    "from sklearn import metrics\n",
    "from pprint import pprint\n",
    "from sklearn.naive_bayes import CategoricalNB"
   ]
  },
  {
   "cell_type": "code",
   "execution_count": 16,
   "id": "toxic-porter",
   "metadata": {},
   "outputs": [
    {
     "name": "stdout",
     "output_type": "stream",
     "text": [
      "[0.88184073 0.88245769 0.90887024 0.15205115 0.89545162]\n"
     ]
    }
   ],
   "source": [
    "def to_use_GNB(X_train_red, y_train_red):\n",
    "    \n",
    "    #These will store values for the accuracy scores\n",
    "    accuracy_scores_catNB = []\n",
    "    \n",
    "    #Do this for all n splits\n",
    "    for train, val in kf.split(X_train_red):\n",
    "        \n",
    "        clf_NB = CategoricalNB()\n",
    "        \n",
    "        #Train Model\n",
    "        clf_NB = clf_NB.fit(X_train_red[train], y_train_red[train])\n",
    "        \n",
    "        #Using validation data to predict\n",
    "        predictions = clf_NB.predict(X_train_red[val])\n",
    "        tp, fn, fp, tn = metrics.confusion_matrix(y_train_red[val], predictions).ravel()\n",
    "        accuracy = (tn+tp)/(fp+fn+tp+tn)\n",
    "        precision = tp/(tp+fp)\n",
    "        recall = tp/(tp+fn)\n",
    "        fpr = fp/(fp+tn)\n",
    "        f1 = 2*precision*recall/(precision + recall)\n",
    "        accuracy_scores_catNB.append((accuracy, precision, recall, fpr, f1))\n",
    "\n",
    "    return np.mean(accuracy_scores_catNB, axis=0)\n",
    "\n",
    "metric_GNB = to_use_GNB(X_train_red_onehot, y_train_red)\n",
    "print(metric_GNB)"
   ]
  },
  {
   "cell_type": "markdown",
   "id": "artificial-baptist",
   "metadata": {},
   "source": [
    "## K-Nearest Neighbours"
   ]
  },
  {
   "cell_type": "code",
   "execution_count": 17,
   "id": "honest-immune",
   "metadata": {},
   "outputs": [],
   "source": [
    "from sklearn.neighbors import KNeighborsClassifier\n",
    "from sklearn.model_selection import GridSearchCV"
   ]
  },
  {
   "cell_type": "code",
   "execution_count": 18,
   "id": "experienced-monroe",
   "metadata": {},
   "outputs": [
    {
     "name": "stdout",
     "output_type": "stream",
     "text": [
      "{'metric': 'euclidean', 'n_neighbors': 3}\n"
     ]
    }
   ],
   "source": [
    "def gridsearch_KNN(X_train_red_onehot, y_train_red):\n",
    "    clf_knn = KNeighborsClassifier()\n",
    "    knn_param_grid = {\n",
    "      \"n_neighbors\": [3, 5, 7, 9, 15],\n",
    "      \"metric\": ['euclidean', 'manhattan']\n",
    "    }\n",
    "\n",
    "    gs_knn = GridSearchCV(KNeighborsClassifier(), knn_param_grid, cv = 3)\n",
    "    gs_results = gs_knn.fit(X_train_red_onehot, y_train_red)\n",
    "\n",
    "    return gs_results.best_params_\n",
    "\n",
    "bestparams_knn = gridsearch_KNN(X_train_red_onehot, y_train_red)\n",
    "print(bestparams_knn)"
   ]
  },
  {
   "cell_type": "code",
   "execution_count": 19,
   "id": "later-silence",
   "metadata": {},
   "outputs": [
    {
     "name": "stdout",
     "output_type": "stream",
     "text": [
      "[0.92311158 0.93480098 0.9266088  0.0815385  0.93062615]\n"
     ]
    }
   ],
   "source": [
    "def to_use_KNN(X_train_red, y_train_red):\n",
    "    accuracy_scores_catKNN = []\n",
    "    for train, val in kf.split(X_train_red):\n",
    "        \n",
    "        clf_neigh = KNeighborsClassifier(n_neighbors=3, metric='euclidean')\n",
    "        \n",
    "        #Train model\n",
    "        clf_neigh = clf_neigh.fit(X_train_red[train], y_train_red[train])\n",
    "        \n",
    "        #Make predictions\n",
    "        predictions = clf_neigh.predict(X_train_red[val])\n",
    "        tp, fn, fp, tn = metrics.confusion_matrix(y_train_red[val], predictions).ravel()\n",
    "        accuracy = (tn+tp)/(fp+fn+tp+tn)\n",
    "        precision = tp/(tp+fp)\n",
    "        recall = tp/(tp+fn)\n",
    "        fpr = fp/(fp+tn)\n",
    "        f1 = 2*precision*recall/(precision + recall)\n",
    "        accuracy_scores_catKNN.append((accuracy, precision, recall, fpr, f1))\n",
    "  \n",
    "    return np.mean(accuracy_scores_catKNN, axis=0)\n",
    "\n",
    "metric_KNN = to_use_KNN(X_train_red_onehot, y_train_red)\n",
    "print(metric_KNN)"
   ]
  },
  {
   "cell_type": "markdown",
   "id": "aggressive-decade",
   "metadata": {},
   "source": [
    "## XGBoost"
   ]
  },
  {
   "cell_type": "code",
   "execution_count": 20,
   "id": "earlier-infrared",
   "metadata": {},
   "outputs": [],
   "source": [
    "#!pip install xgboost\n",
    "from xgboost import XGBClassifier"
   ]
  },
  {
   "cell_type": "code",
   "execution_count": 21,
   "id": "verbal-devices",
   "metadata": {},
   "outputs": [
    {
     "name": "stderr",
     "output_type": "stream",
     "text": [
      "c:\\users\\admin\\appdata\\local\\programs\\python\\python39\\lib\\site-packages\\xgboost\\sklearn.py:1146: UserWarning: The use of label encoder in XGBClassifier is deprecated and will be removed in a future release. To remove this warning, do the following: 1) Pass option use_label_encoder=False when constructing XGBClassifier object; and 2) Encode your labels (y) as integers starting with 0, i.e. 0, 1, 2, ..., [num_class - 1].\n",
      "  warnings.warn(label_encoder_deprecation_msg, UserWarning)\n"
     ]
    },
    {
     "name": "stdout",
     "output_type": "stream",
     "text": [
      "[19:15:22] WARNING: C:/Users/Administrator/workspace/xgboost-win64_release_1.4.0/src/learner.cc:573: \n",
      "Parameters: { \"silent\" } might not be used.\n",
      "\n",
      "  This may not be accurate due to some parameters are only used in language bindings but\n",
      "  passed down to XGBoost core.  Or some parameters are not used but slip through this\n",
      "  verification. Please open an issue if you find above cases.\n",
      "\n",
      "\n",
      "[19:15:22] WARNING: C:/Users/Administrator/workspace/xgboost-win64_release_1.4.0/src/learner.cc:1095: Starting in XGBoost 1.3.0, the default evaluation metric used with the objective 'binary:logistic' was changed from 'error' to 'logloss'. Explicitly set eval_metric if you'd like to restore the old behavior.\n"
     ]
    },
    {
     "name": "stderr",
     "output_type": "stream",
     "text": [
      "c:\\users\\admin\\appdata\\local\\programs\\python\\python39\\lib\\site-packages\\xgboost\\sklearn.py:1146: UserWarning: The use of label encoder in XGBClassifier is deprecated and will be removed in a future release. To remove this warning, do the following: 1) Pass option use_label_encoder=False when constructing XGBClassifier object; and 2) Encode your labels (y) as integers starting with 0, i.e. 0, 1, 2, ..., [num_class - 1].\n",
      "  warnings.warn(label_encoder_deprecation_msg, UserWarning)\n"
     ]
    },
    {
     "name": "stdout",
     "output_type": "stream",
     "text": [
      "[19:15:25] WARNING: C:/Users/Administrator/workspace/xgboost-win64_release_1.4.0/src/learner.cc:573: \n",
      "Parameters: { \"silent\" } might not be used.\n",
      "\n",
      "  This may not be accurate due to some parameters are only used in language bindings but\n",
      "  passed down to XGBoost core.  Or some parameters are not used but slip through this\n",
      "  verification. Please open an issue if you find above cases.\n",
      "\n",
      "\n",
      "[19:15:25] WARNING: C:/Users/Administrator/workspace/xgboost-win64_release_1.4.0/src/learner.cc:1095: Starting in XGBoost 1.3.0, the default evaluation metric used with the objective 'binary:logistic' was changed from 'error' to 'logloss'. Explicitly set eval_metric if you'd like to restore the old behavior.\n"
     ]
    },
    {
     "name": "stderr",
     "output_type": "stream",
     "text": [
      "c:\\users\\admin\\appdata\\local\\programs\\python\\python39\\lib\\site-packages\\xgboost\\sklearn.py:1146: UserWarning: The use of label encoder in XGBClassifier is deprecated and will be removed in a future release. To remove this warning, do the following: 1) Pass option use_label_encoder=False when constructing XGBClassifier object; and 2) Encode your labels (y) as integers starting with 0, i.e. 0, 1, 2, ..., [num_class - 1].\n",
      "  warnings.warn(label_encoder_deprecation_msg, UserWarning)\n"
     ]
    },
    {
     "name": "stdout",
     "output_type": "stream",
     "text": [
      "[19:15:28] WARNING: C:/Users/Administrator/workspace/xgboost-win64_release_1.4.0/src/learner.cc:573: \n",
      "Parameters: { \"silent\" } might not be used.\n",
      "\n",
      "  This may not be accurate due to some parameters are only used in language bindings but\n",
      "  passed down to XGBoost core.  Or some parameters are not used but slip through this\n",
      "  verification. Please open an issue if you find above cases.\n",
      "\n",
      "\n",
      "[19:15:28] WARNING: C:/Users/Administrator/workspace/xgboost-win64_release_1.4.0/src/learner.cc:1095: Starting in XGBoost 1.3.0, the default evaluation metric used with the objective 'binary:logistic' was changed from 'error' to 'logloss'. Explicitly set eval_metric if you'd like to restore the old behavior.\n"
     ]
    },
    {
     "name": "stderr",
     "output_type": "stream",
     "text": [
      "c:\\users\\admin\\appdata\\local\\programs\\python\\python39\\lib\\site-packages\\xgboost\\sklearn.py:1146: UserWarning: The use of label encoder in XGBClassifier is deprecated and will be removed in a future release. To remove this warning, do the following: 1) Pass option use_label_encoder=False when constructing XGBClassifier object; and 2) Encode your labels (y) as integers starting with 0, i.e. 0, 1, 2, ..., [num_class - 1].\n",
      "  warnings.warn(label_encoder_deprecation_msg, UserWarning)\n"
     ]
    },
    {
     "name": "stdout",
     "output_type": "stream",
     "text": [
      "[19:15:31] WARNING: C:/Users/Administrator/workspace/xgboost-win64_release_1.4.0/src/learner.cc:573: \n",
      "Parameters: { \"silent\" } might not be used.\n",
      "\n",
      "  This may not be accurate due to some parameters are only used in language bindings but\n",
      "  passed down to XGBoost core.  Or some parameters are not used but slip through this\n",
      "  verification. Please open an issue if you find above cases.\n",
      "\n",
      "\n",
      "[19:15:31] WARNING: C:/Users/Administrator/workspace/xgboost-win64_release_1.4.0/src/learner.cc:1095: Starting in XGBoost 1.3.0, the default evaluation metric used with the objective 'binary:logistic' was changed from 'error' to 'logloss'. Explicitly set eval_metric if you'd like to restore the old behavior.\n"
     ]
    },
    {
     "name": "stderr",
     "output_type": "stream",
     "text": [
      "c:\\users\\admin\\appdata\\local\\programs\\python\\python39\\lib\\site-packages\\xgboost\\sklearn.py:1146: UserWarning: The use of label encoder in XGBClassifier is deprecated and will be removed in a future release. To remove this warning, do the following: 1) Pass option use_label_encoder=False when constructing XGBClassifier object; and 2) Encode your labels (y) as integers starting with 0, i.e. 0, 1, 2, ..., [num_class - 1].\n",
      "  warnings.warn(label_encoder_deprecation_msg, UserWarning)\n"
     ]
    },
    {
     "name": "stdout",
     "output_type": "stream",
     "text": [
      "[19:15:35] WARNING: C:/Users/Administrator/workspace/xgboost-win64_release_1.4.0/src/learner.cc:573: \n",
      "Parameters: { \"silent\" } might not be used.\n",
      "\n",
      "  This may not be accurate due to some parameters are only used in language bindings but\n",
      "  passed down to XGBoost core.  Or some parameters are not used but slip through this\n",
      "  verification. Please open an issue if you find above cases.\n",
      "\n",
      "\n",
      "[19:15:35] WARNING: C:/Users/Administrator/workspace/xgboost-win64_release_1.4.0/src/learner.cc:1095: Starting in XGBoost 1.3.0, the default evaluation metric used with the objective 'binary:logistic' was changed from 'error' to 'logloss'. Explicitly set eval_metric if you'd like to restore the old behavior.\n",
      "[0.90422862 0.89179936 0.94229129 0.14369149 0.9163316 ]\n"
     ]
    }
   ],
   "source": [
    "def to_use_XGB(X_train_red, y_train_red):\n",
    "    accuracy_scores_xgb = []\n",
    "    for train, val in kf.split(X_train_red):\n",
    "        \n",
    "        \n",
    "        clf_xgb = XGBClassifier(silent=False, \n",
    "                        scale_pos_weight=1,\n",
    "                        learning_rate=0.01,  \n",
    "                        colsample_bytree = 0.4,\n",
    "                        subsample = 0.8,\n",
    "                        objective='binary:logistic', \n",
    "                        n_estimators=1000, \n",
    "                        reg_alpha = 0.3,\n",
    "                        max_depth=4, \n",
    "                        gamma=10)\n",
    "        \n",
    "        #Train Model\n",
    "        clf_xgb = clf_xgb.fit(X_train_red[train], y_train_red[train])\n",
    "        \n",
    "        #Predict\n",
    "        predictions = clf_xgb.predict(X_train_red[val])\n",
    "        \n",
    "        tp, fn, fp, tn = metrics.confusion_matrix(y_train_red[val], predictions).ravel()\n",
    "        accuracy = (tn+tp)/(fp+fn+tp+tn)\n",
    "        precision = tp/(tp+fp)\n",
    "        recall = tp/(tp+fn)\n",
    "        fpr = fp/(fp+tn)\n",
    "        f1 = 2*precision*recall/(precision + recall)\n",
    "        accuracy_scores_xgb.append((accuracy, precision, recall, fpr, f1))\n",
    "\n",
    "    return np.mean(accuracy_scores_xgb, axis=0)\n",
    "    \n",
    "metric_xgb = to_use_XGB(X_train_red_onehot, y_train_red)\n",
    "print(metric_xgb)"
   ]
  },
  {
   "cell_type": "markdown",
   "id": "subsequent-camcorder",
   "metadata": {},
   "source": [
    "## Decision Tree"
   ]
  },
  {
   "cell_type": "code",
   "execution_count": 22,
   "id": "internal-abraham",
   "metadata": {},
   "outputs": [],
   "source": [
    "from sklearn.tree import DecisionTreeClassifier"
   ]
  },
  {
   "cell_type": "code",
   "execution_count": 23,
   "id": "metropolitan-victory",
   "metadata": {},
   "outputs": [
    {
     "name": "stdout",
     "output_type": "stream",
     "text": [
      "{'max_depth': 18, 'random_state': 5}\n"
     ]
    }
   ],
   "source": [
    "def grid_search_decision_tree(X_train_red, y_train_red):\n",
    "    dt = DecisionTreeClassifier(random_state=5)\n",
    "    p = {\"max_depth\": range(1,20), \"random_state\":[5]}\n",
    "    gs = GridSearchCV(estimator=dt,param_grid=p)\n",
    "    gs_fit = gs.fit(X_train_red, y_train_red)\n",
    "    return gs_fit.best_params_\n",
    "\n",
    "best_params_decision_tree = grid_search_decision_tree(X_train_red_onehot, y_train_red)\n",
    "print(best_params_decision_tree)"
   ]
  },
  {
   "cell_type": "code",
   "execution_count": 24,
   "id": "loving-encyclopedia",
   "metadata": {},
   "outputs": [
    {
     "name": "stdout",
     "output_type": "stream",
     "text": [
      "[0.92899157 0.92864118 0.94521799 0.0914861  0.93684338]\n"
     ]
    }
   ],
   "source": [
    "def to_use_decisiontree(X_train_red, y_train_red):\n",
    "    accuracy_scores_dt = []\n",
    "    for train, val in kf.split(X_train_red):\n",
    "        dt = DecisionTreeClassifier(random_state=5, max_depth=18)\n",
    "        dt = dt.fit(X_train_red[train], y_train_red[train])\n",
    "        tp, fn, fp, tn = metrics.confusion_matrix(y_train_red[val],dt.predict(X_train_red[val])).ravel()\n",
    "        dt_accuracy = (tn+tp)/(tp+tn+fp+fn)\n",
    "        dt_prec = tp/(tp+fp)\n",
    "        dt_rec = tp/(tp+fn)\n",
    "        dt_fpr = fp/(fp+tn)\n",
    "        dt_f1 = 2*dt_prec*dt_rec/(dt_prec+dt_rec)\n",
    "        accuracy_scores_dt.append((dt_accuracy,dt_prec,dt_rec,dt_fpr,dt_f1))\n",
    "  \n",
    "    return np.mean(accuracy_scores_dt,axis=0)\n",
    "\n",
    "metric_decision_tree = to_use_decisiontree(X_train_red_onehot, y_train_red)\n",
    "print(metric_decision_tree)"
   ]
  },
  {
   "cell_type": "markdown",
   "id": "virtual-transcript",
   "metadata": {},
   "source": [
    "## Random Forest"
   ]
  },
  {
   "cell_type": "code",
   "execution_count": 25,
   "id": "engaged-street",
   "metadata": {},
   "outputs": [],
   "source": [
    "from sklearn.ensemble import RandomForestClassifier"
   ]
  },
  {
   "cell_type": "code",
   "execution_count": 26,
   "id": "numeric-kitty",
   "metadata": {},
   "outputs": [
    {
     "name": "stdout",
     "output_type": "stream",
     "text": [
      "{'max_features': 'log2', 'n_estimators': 200}\n"
     ]
    }
   ],
   "source": [
    "def grid_search_random_forest(X_train_red_onehot, y_train_red):\n",
    "    rfc = RandomForestClassifier(n_jobs=-1,max_features= 'sqrt' ,n_estimators=50, oob_score = True) \n",
    "    param_grid = { \n",
    "      'n_estimators': [200, 700],\n",
    "      'max_features': ['auto', 'sqrt', 'log2']\n",
    "    }\n",
    "    CV_rfc = GridSearchCV(estimator=rfc, param_grid=param_grid, cv= 5)\n",
    "    CV_rfc.fit(X_train_red, y_train_red)\n",
    "    return CV_rfc.best_params_\n",
    "\n",
    "best_params_rfc = grid_search_random_forest(X_train_red_onehot, y_train_red)\n",
    "print(best_params_rfc)"
   ]
  },
  {
   "cell_type": "code",
   "execution_count": 27,
   "id": "electoral-disaster",
   "metadata": {},
   "outputs": [
    {
     "name": "stdout",
     "output_type": "stream",
     "text": [
      "[0.93543608 0.93616181 0.94886084 0.08145889 0.94243333]\n"
     ]
    }
   ],
   "source": [
    "def to_use_rfc(X_train_red_onehot, y_train_red):\n",
    "    accuracy_scores_forest = []\n",
    "    for train, val in kf.split(X_train_red):\n",
    "        rforest = RandomForestClassifier(max_features= 'auto' ,n_estimators=200)\n",
    "        rforest = rforest.fit(X_train_red_onehot[train],y_train_red[train])\n",
    "        tp1, fn1, fp1, tn1 = metrics.confusion_matrix(y_train_red[val],rforest.predict(X_train_red_onehot[val])).ravel()\n",
    "        r_accuracy = (tn1 + tp1)/(tn1+tp1+fn1+fp1)\n",
    "        r_prec = tp1/(tp1+fp1)\n",
    "        r_rec = tp1/(tp1+fn1)\n",
    "        r_fpr = fp1/(fp1+tn1)\n",
    "        r_f1 = 2*(r_prec)*r_rec/(r_prec+r_rec)\n",
    "        accuracy_scores_forest.append((r_accuracy,r_prec,r_rec,r_fpr,r_f1))\n",
    "\n",
    "    return np.mean(accuracy_scores_forest, axis=0)\n",
    "  \n",
    "\n",
    "metric_rforest = to_use_rfc(X_train_red_onehot, y_train_red)\n",
    "print(metric_rforest)"
   ]
  },
  {
   "cell_type": "markdown",
   "id": "particular-syria",
   "metadata": {},
   "source": [
    "## Support Vector Machines"
   ]
  },
  {
   "cell_type": "code",
   "execution_count": 28,
   "id": "honest-teens",
   "metadata": {},
   "outputs": [],
   "source": [
    "from sklearn import svm\n",
    "from sklearn.model_selection import GridSearchCV"
   ]
  },
  {
   "cell_type": "code",
   "execution_count": 29,
   "id": "mounted-carol",
   "metadata": {},
   "outputs": [
    {
     "name": "stdout",
     "output_type": "stream",
     "text": [
      "{'C': 10, 'gamma': 0.1, 'kernel': 'rbf'}\n"
     ]
    }
   ],
   "source": [
    "def grid_search_svm(X_train_red_onehot, y_train_red):\n",
    "    svm_clf = svm.SVC()\n",
    "    param_grid = {'C': [0.1, 1, 10, 100],  \n",
    "                'gamma': [1, 0.1, 0.01, 0.001], \n",
    "                'kernel': ['rbf', 'linear']}  \n",
    "\n",
    "    gs_svm = GridSearchCV(svm.SVC(), param_grid, cv = 3)\n",
    "    gs_results = gs_svm.fit(X_train_red_onehot, y_train_red)\n",
    "\n",
    "    return gs_results.best_params_\n",
    "\n",
    "bestparams_svm = grid_search_svm(X_train_red_onehot, y_train_red)\n",
    "print(bestparams_svm)"
   ]
  },
  {
   "cell_type": "code",
   "execution_count": 30,
   "id": "industrial-server",
   "metadata": {},
   "outputs": [
    {
     "name": "stderr",
     "output_type": "stream",
     "text": [
      "c:\\users\\admin\\appdata\\local\\programs\\python\\python39\\lib\\site-packages\\sklearn\\utils\\validation.py:70: FutureWarning: Pass labels=[1, 0] as keyword args. From version 1.0 (renaming of 0.25) passing these as positional arguments will result in an error\n",
      "  warnings.warn(f\"Pass {args_msg} as keyword args. From version \"\n",
      "<ipython-input-13-aff18d0f099d>:10: UserWarning: FixedFormatter should only be used together with FixedLocator\n",
      "  ax.set_xticklabels([''] + labels)\n",
      "<ipython-input-13-aff18d0f099d>:11: UserWarning: FixedFormatter should only be used together with FixedLocator\n",
      "  ax.set_yticklabels([''] + labels)\n",
      "c:\\users\\admin\\appdata\\local\\programs\\python\\python39\\lib\\site-packages\\sklearn\\utils\\validation.py:70: FutureWarning: Pass labels=[1, 0] as keyword args. From version 1.0 (renaming of 0.25) passing these as positional arguments will result in an error\n",
      "  warnings.warn(f\"Pass {args_msg} as keyword args. From version \"\n",
      "<ipython-input-13-aff18d0f099d>:10: UserWarning: FixedFormatter should only be used together with FixedLocator\n",
      "  ax.set_xticklabels([''] + labels)\n",
      "<ipython-input-13-aff18d0f099d>:11: UserWarning: FixedFormatter should only be used together with FixedLocator\n",
      "  ax.set_yticklabels([''] + labels)\n",
      "c:\\users\\admin\\appdata\\local\\programs\\python\\python39\\lib\\site-packages\\sklearn\\utils\\validation.py:70: FutureWarning: Pass labels=[1, 0] as keyword args. From version 1.0 (renaming of 0.25) passing these as positional arguments will result in an error\n",
      "  warnings.warn(f\"Pass {args_msg} as keyword args. From version \"\n",
      "<ipython-input-13-aff18d0f099d>:10: UserWarning: FixedFormatter should only be used together with FixedLocator\n",
      "  ax.set_xticklabels([''] + labels)\n",
      "<ipython-input-13-aff18d0f099d>:11: UserWarning: FixedFormatter should only be used together with FixedLocator\n",
      "  ax.set_yticklabels([''] + labels)\n",
      "c:\\users\\admin\\appdata\\local\\programs\\python\\python39\\lib\\site-packages\\sklearn\\utils\\validation.py:70: FutureWarning: Pass labels=[1, 0] as keyword args. From version 1.0 (renaming of 0.25) passing these as positional arguments will result in an error\n",
      "  warnings.warn(f\"Pass {args_msg} as keyword args. From version \"\n",
      "<ipython-input-13-aff18d0f099d>:10: UserWarning: FixedFormatter should only be used together with FixedLocator\n",
      "  ax.set_xticklabels([''] + labels)\n",
      "<ipython-input-13-aff18d0f099d>:11: UserWarning: FixedFormatter should only be used together with FixedLocator\n",
      "  ax.set_yticklabels([''] + labels)\n",
      "c:\\users\\admin\\appdata\\local\\programs\\python\\python39\\lib\\site-packages\\sklearn\\utils\\validation.py:70: FutureWarning: Pass labels=[1, 0] as keyword args. From version 1.0 (renaming of 0.25) passing these as positional arguments will result in an error\n",
      "  warnings.warn(f\"Pass {args_msg} as keyword args. From version \"\n",
      "<ipython-input-13-aff18d0f099d>:10: UserWarning: FixedFormatter should only be used together with FixedLocator\n",
      "  ax.set_xticklabels([''] + labels)\n",
      "<ipython-input-13-aff18d0f099d>:11: UserWarning: FixedFormatter should only be used together with FixedLocator\n",
      "  ax.set_yticklabels([''] + labels)\n"
     ]
    },
    {
     "name": "stdout",
     "output_type": "stream",
     "text": [
      "[0.93340097 0.93634125 0.94473776 0.08100019 0.94047216]\n"
     ]
    },
    {
     "data": {
      "image/png": "[encoded data removed]",
      "text/plain": [
       "<Figure size 432x288 with 2 Axes>"
      ]
     },
     "metadata": {
      "needs_background": "light"
     },
     "output_type": "display_data"
    },
    {
     "data": {
      "image/png": "[encoded data removed]",
      "text/plain": [
       "<Figure size 432x288 with 2 Axes>"
      ]
     },
     "metadata": {
      "needs_background": "light"
     },
     "output_type": "display_data"
    },
    {
     "data": {
      "image/png": "[encoded data removed]",
      "text/plain": [
       "<Figure size 432x288 with 2 Axes>"
      ]
     },
     "metadata": {
      "needs_background": "light"
     },
     "output_type": "display_data"
    },
    {
     "data": {
      "image/png": "[encoded data removed]",
      "text/plain": [
       "<Figure size 432x288 with 2 Axes>"
      ]
     },
     "metadata": {
      "needs_background": "light"
     },
     "output_type": "display_data"
    },
    {
     "data": {
      "image/png": "[encoded data removed]",
      "text/plain": [
       "<Figure size 432x288 with 2 Axes>"
      ]
     },
     "metadata": {
      "needs_background": "light"
     },
     "output_type": "display_data"
    }
   ],
   "source": [
    "def to_use_SVM(X_train_red_onehot, y_train_red):\n",
    "    accuracy_scores_svm = []\n",
    "    for train, val in kf.split(X_train_red_onehot):\n",
    "        svm_clf = svm.SVC(kernel='rbf', gamma = 0.1, C = 10, probability=True)\n",
    "        svm_clf = svm_clf.fit(X_train_red_onehot[train], y_train_red[train])\n",
    "        tp, fn, fp, tn = metrics.confusion_matrix(y_train_red[val], svm_clf.predict(X_train_red_onehot[val])).ravel()\n",
    "        plot_cm(y_train_red[val], svm_clf.predict(X_train_red_onehot[val]))\n",
    "    \n",
    "        accuracy = (tn+tp)/(fp+fn+tp+tn)\n",
    "        precision = tp/(tp+fp)\n",
    "        recall = tp/(tp+fn)\n",
    "        fpr = fp/(fp+tn)\n",
    "        f1 = 2*precision*recall/(precision + recall)\n",
    "        accuracy_scores_svm.append((accuracy, precision, recall, fpr, f1))\n",
    "\n",
    "\n",
    "    return np.mean(accuracy_scores_svm, axis=0)\n",
    "\n",
    "metric_svm = to_use_SVM(X_train_red_onehot, y_train_red)\n",
    "print(metric_svm)\n"
   ]
  },
  {
   "cell_type": "code",
   "execution_count": 31,
   "id": "demonstrated-waters",
   "metadata": {},
   "outputs": [
    {
     "name": "stdout",
     "output_type": "stream",
     "text": [
      "\t===============================================Training Metrics===============================================\n",
      "\n",
      "Naive Bayes\n",
      "\n",
      "Accuracy:  0.8818407260282033\n",
      "Precision:  0.8824576876234269\n",
      "Recall:  0.9088702377016423\n",
      "FPR:  0.15205114815449808\n",
      "F1:  0.8954516247351556\n",
      "\n",
      "\n",
      "KNN\n",
      "\n",
      "Accuracy:  0.9231115823291528\n",
      "Precision:  0.9348009791671361\n",
      "Recall:  0.9266088001416654\n",
      "FPR:  0.08153850333933772\n",
      "F1:  0.9306261533110162\n",
      "\n",
      "\n",
      "XGBoost\n",
      "\n",
      "Accuracy:  0.9042286206129189\n",
      "Precision:  0.8917993551367107\n",
      "Recall:  0.9422912933254924\n",
      "FPR:  0.14369148642383045\n",
      "F1:  0.9163315967801408\n",
      "\n",
      "\n",
      "Decision Trees\n",
      "\n",
      "Accuracy:  0.9289915692328155\n",
      "Precision:  0.9286411836359557\n",
      "Recall:  0.9452179881297237\n",
      "FPR:  0.09148610070507192\n",
      "F1:  0.9368433818203528\n",
      "\n",
      "\n",
      "Random Forest\n",
      "\n",
      "Accuracy:  0.9354360798978896\n",
      "Precision:  0.9361618091252281\n",
      "Recall:  0.948860843905997\n",
      "FPR:  0.08145888780623634\n",
      "F1:  0.9424333284357633\n",
      "\n",
      "\n",
      "Support Vector Machines\n",
      "\n",
      "Accuracy:  0.9334009679011841\n",
      "Precision:  0.9363412458980864\n",
      "Recall:  0.9447377564857872\n",
      "FPR:  0.08100019198820027\n",
      "F1:  0.9404721561833126\n"
     ]
    }
   ],
   "source": [
    "print(\"\\t===============================================Training Metrics===============================================\\n\")\n",
    "labels = [\"Accuracy: \", \"Precision: \", \"Recall: \", \"FPR: \", \"F1: \"]\n",
    "\n",
    "print(\"Naive Bayes\\n\")\n",
    "for i in range(len(metric_GNB)):\n",
    "    print(labels[i],metric_GNB[i])\n",
    "\n",
    "print(\"\\n\")\n",
    "\n",
    "print(\"KNN\\n\")\n",
    "for i in range(len(metric_KNN)):\n",
    "    print(labels[i],metric_KNN[i])\n",
    "    \n",
    "print(\"\\n\")\n",
    "\n",
    "print(\"XGBoost\\n\")\n",
    "for i in range(len(metric_xgb)):\n",
    "    print(labels[i],metric_xgb[i])\n",
    "    \n",
    "print(\"\\n\")\n",
    "\n",
    "print(\"Decision Trees\\n\")\n",
    "for i in range(len(metric_decision_tree)):\n",
    "    print(labels[i],metric_decision_tree[i])\n",
    "    \n",
    "print(\"\\n\")\n",
    "\n",
    "print(\"Random Forest\\n\")\n",
    "for i in range(len(metric_rforest)):\n",
    "    print(labels[i],metric_rforest[i])\n",
    "    \n",
    "print(\"\\n\")\n",
    "\n",
    "print(\"Support Vector Machines\\n\")\n",
    "for i in range(len(metric_svm)):\n",
    "    print(labels[i],metric_svm[i])"
   ]
  },
  {
   "cell_type": "code",
   "execution_count": 32,
   "id": "nonprofit-former",
   "metadata": {},
   "outputs": [
    {
     "data": {
      "image/png": "[encoded data removed]",
      "text/plain": [
       "<Figure size 432x288 with 2 Axes>"
      ]
     },
     "metadata": {
      "needs_background": "light"
     },
     "output_type": "display_data"
    },
    {
     "name": "stderr",
     "output_type": "stream",
     "text": [
      "c:\\users\\admin\\appdata\\local\\programs\\python\\python39\\lib\\site-packages\\xgboost\\sklearn.py:1146: UserWarning: The use of label encoder in XGBClassifier is deprecated and will be removed in a future release. To remove this warning, do the following: 1) Pass option use_label_encoder=False when constructing XGBClassifier object; and 2) Encode your labels (y) as integers starting with 0, i.e. 0, 1, 2, ..., [num_class - 1].\n",
      "  warnings.warn(label_encoder_deprecation_msg, UserWarning)\n"
     ]
    },
    {
     "name": "stdout",
     "output_type": "stream",
     "text": [
      "[19:21:00] WARNING: C:/Users/Administrator/workspace/xgboost-win64_release_1.4.0/src/learner.cc:573: \n",
      "Parameters: { \"silent\" } might not be used.\n",
      "\n",
      "  This may not be accurate due to some parameters are only used in language bindings but\n",
      "  passed down to XGBoost core.  Or some parameters are not used but slip through this\n",
      "  verification. Please open an issue if you find above cases.\n",
      "\n",
      "\n",
      "[19:21:00] WARNING: C:/Users/Administrator/workspace/xgboost-win64_release_1.4.0/src/learner.cc:1095: Starting in XGBoost 1.3.0, the default evaluation metric used with the objective 'binary:logistic' was changed from 'error' to 'logloss'. Explicitly set eval_metric if you'd like to restore the old behavior.\n"
     ]
    },
    {
     "data": {
      "image/png": "[encoded data removed]",
      "text/plain": [
       "<Figure size 432x288 with 2 Axes>"
      ]
     },
     "metadata": {
      "needs_background": "light"
     },
     "output_type": "display_data"
    },
    {
     "data": {
      "image/png": "[encoded data removed]",
      "text/plain": [
       "<Figure size 432x288 with 2 Axes>"
      ]
     },
     "metadata": {
      "needs_background": "light"
     },
     "output_type": "display_data"
    },
    {
     "data": {
      "image/png": "[encoded data removed]",
      "text/plain": [
       "<Figure size 432x288 with 2 Axes>"
      ]
     },
     "metadata": {
      "needs_background": "light"
     },
     "output_type": "display_data"
    },
    {
     "data": {
      "image/png": "[encoded data removed]",
      "text/plain": [
       "<Figure size 432x288 with 2 Axes>"
      ]
     },
     "metadata": {
      "needs_background": "light"
     },
     "output_type": "display_data"
    },
    {
     "name": "stdout",
     "output_type": "stream",
     "text": [
      "\t==============================================Testing Metrics==================================================\n",
      "\n",
      "KNN: \n",
      " [(0.9326096788783356, 0.9419934640522876, 0.9366368805848904, 0.07244897959183673, 0.9393075356415478)]\n",
      "XGBoost: \n",
      " [(0.9136137494346449, 0.8981623277182236, 0.9528838342810723, 0.1357142857142857, 0.9247142294048087)]\n",
      "Decision Tree: \n",
      " [(0.9335142469470827, 0.9308426073131956, 0.9512591389114541, 0.08877551020408163, 0.9409401366010446)]\n",
      "Random Forest: \n",
      " [(0.9393939393939394, 0.9377494014365523, 0.9545085296506904, 0.07959183673469387, 0.9460547504025765)]\n",
      "Support Vector Machines: \n",
      " [(0.9317051108095884, 0.9376012965964343, 0.9398862713241267, 0.07857142857142857, 0.9387423935091277)]\n"
     ]
    }
   ],
   "source": [
    "from sklearn.metrics import plot_confusion_matrix\n",
    "\n",
    "\n",
    "def to_test_KNN(X_test_red_onehot, y_test_red, X_train_red_onehot, y_train_red):\n",
    "    accuracy_scores_catKNN = []\n",
    "        \n",
    "    clf_neigh = KNeighborsClassifier(n_neighbors=3, metric='euclidean')\n",
    "\n",
    "    #Train model\n",
    "    clf_neigh = clf_neigh.fit(X_train_red_onehot, y_train_red)\n",
    "\n",
    "    #Make predictions\n",
    "    predictions = clf_neigh.predict(X_test_red_onehot)\n",
    "    tp, fn, fp, tn = metrics.confusion_matrix(y_test_red, predictions).ravel()\n",
    "    accuracy = (tn+tp)/(fp+fn+tp+tn)\n",
    "    precision = tp/(tp+fp)\n",
    "    recall = tp/(tp+fn)\n",
    "    fpr = fp/(fp+tn)\n",
    "    f1 = 2*precision*recall/(precision + recall)\n",
    "    accuracy_scores_catKNN.append((accuracy, precision, recall, fpr, f1))\n",
    "    \n",
    "    plot_confusion_matrix(clf_neigh , X_test_red_onehot, y_test_red)\n",
    "    plt.show()\n",
    "\n",
    "    return accuracy_scores_catKNN\n",
    "\n",
    "test_accuracy_knn = to_test_KNN(X_test_red_onehot, y_test_red, X_train_red_onehot, y_train_red)\n",
    "\n",
    "\n",
    "def to_test_XGB(X_test_red_onehot, y_test_red, X_train_red_onehot, y_train_red):\n",
    "    accuracy_scores_xgb = []\n",
    "    clf_xgb = XGBClassifier(silent=False, scale_pos_weight=1,learning_rate=0.01, colsample_bytree = 0.4,subsample = 0.8, objective='binary:logistic',  n_estimators=1000, reg_alpha = 0.3,max_depth=4, gamma=10)\n",
    "\n",
    "    #Train Model\n",
    "    clf_xgb = clf_xgb.fit(X_train_red_onehot, y_train_red)\n",
    "\n",
    "\n",
    "    tp, fn, fp, tn = metrics.confusion_matrix(y_test_red, clf_xgb.predict(X_test_red_onehot)).ravel()\n",
    "    accuracy = (tn+tp)/(fp+fn+tp+tn)\n",
    "    precision = tp/(tp+fp)\n",
    "    recall = tp/(tp+fn)\n",
    "    fpr = fp/(fp+tn)\n",
    "    f1 = 2*precision*recall/(precision + recall)\n",
    "    accuracy_scores_xgb.append((accuracy, precision, recall, fpr, f1))\n",
    "    plot_confusion_matrix(clf_xgb , X_test_red_onehot, y_test_red)\n",
    "    plt.show()\n",
    "\n",
    "    return accuracy_scores_xgb \n",
    "\n",
    "test_accuracy_xgb = to_test_XGB(X_test_red_onehot, y_test_red, X_train_red_onehot, y_train_red)\n",
    "\n",
    "def to_test_decisiontree(X_test_red_onehot, y_test_red, X_train_red_onehot, y_train_red):\n",
    "    accuracy_scores_dt = []\n",
    "    dt = DecisionTreeClassifier(random_state=5, max_depth=18)\n",
    "    dt = dt.fit(X_train_red_onehot, y_train_red)\n",
    "    tp, fn, fp, tn = metrics.confusion_matrix(y_test_red,dt.predict(X_test_red_onehot)).ravel()\n",
    "    dt_accuracy = (tn+tp)/(tp+tn+fp+fn)\n",
    "    dt_prec = tp/(tp+fp)\n",
    "    dt_rec = tp/(tp+fn)\n",
    "    dt_fpr = fp/(fp+tn)\n",
    "    dt_f1 = 2*dt_prec*dt_rec/(dt_prec+dt_rec)\n",
    "    accuracy_scores_dt.append((dt_accuracy,dt_prec,dt_rec,dt_fpr,dt_f1))\n",
    "    plot_confusion_matrix(dt, X_test_red_onehot, y_test_red)\n",
    "    plt.show()\n",
    "  \n",
    "    return accuracy_scores_dt\n",
    "\n",
    "test_accuracy_dt = to_test_decisiontree(X_test_red_onehot, y_test_red, X_train_red_onehot, y_train_red)\n",
    "\n",
    "def to_test_rfc(X_test_red_onehot, y_test_red, X_train_red_onehot, y_train_red):\n",
    "    \n",
    "    accuracy_scores_rfc = []\n",
    "    rforest = RandomForestClassifier(max_features= 'sqrt' ,n_estimators=200)\n",
    "    rforest = rforest.fit(X_train_red_onehot,y_train_red)\n",
    "    tp, fn, fp, tn = metrics.confusion_matrix(y_test_red, rforest.predict(X_test_red_onehot)).ravel()\n",
    "    accuracy = (tn+tp)/(fp+fn+tp+tn)\n",
    "    precision = tp/(tp+fp)\n",
    "    recall = tp/(tp+fn)\n",
    "    fpr = fp/(fp+tn)\n",
    "    f1 = 2*precision*recall/(precision + recall)\n",
    "    accuracy_scores_rfc.append((accuracy, precision, recall, fpr, f1))\n",
    "    pickle.dump(rforest, open(\"RF_Final_Model.pkl\", 'wb'))\n",
    "    plot_confusion_matrix(rforest , X_test_red_onehot, y_test_red)\n",
    "    plt.show()\n",
    "    \n",
    "    return accuracy_scores_rfc\n",
    "  \n",
    "\n",
    "test_accuracy_rfc = to_test_rfc(X_test_red_onehot, y_test_red, X_train_red_onehot, y_train_red)\n",
    "\n",
    "\n",
    "def to_test_SVM(X_test_red_onehot, y_test_red, X_train_red_onehot, y_train_red):\n",
    "    accuracy_scores_svm = []\n",
    "    svm_clf = svm.SVC(kernel='rbf', gamma = 0.1, C = 10, probability=True)\n",
    "    svm_clf = svm_clf.fit(X_train_red_onehot, y_train_red)\n",
    "    tp, fn, fp, tn = metrics.confusion_matrix(y_test_red, svm_clf.predict(X_test_red_onehot)).ravel()\n",
    "    accuracy = (tn+tp)/(fp+fn+tp+tn)\n",
    "    precision = tp/(tp+fp)\n",
    "    recall = tp/(tp+fn)\n",
    "    fpr = fp/(fp+tn)\n",
    "    f1 = 2*precision*recall/(precision + recall)\n",
    "    pickle.dump(svm_clf, open(\"SVM_Final_Model.pkl\", 'wb'))\n",
    "    accuracy_scores_svm.append((accuracy, precision, recall, fpr, f1))\n",
    "    plot_confusion_matrix(svm_clf , X_test_red_onehot, y_test_red)\n",
    "    plt.show()\n",
    "    \n",
    "    return accuracy_scores_svm\n",
    "\n",
    "test_accuracy_svm = to_test_SVM(X_test_red_onehot, y_test_red, X_train_red_onehot, y_train_red)\n",
    "\n",
    "\n",
    "print(\"\\t==============================================Testing Metrics==================================================\\n\")\n",
    "\n",
    "print(\"KNN: \\n\",test_accuracy_knn)\n",
    "\n",
    "print(\"XGBoost: \\n\",test_accuracy_xgb)\n",
    "\n",
    "print(\"Decision Tree: \\n\",test_accuracy_dt)\n",
    "\n",
    "print(\"Random Forest: \\n\",test_accuracy_rfc)\n",
    "\n",
    "print(\"Support Vector Machines: \\n\",test_accuracy_svm)"
   ]
  },
  {
   "cell_type": "code",
   "execution_count": 36,
   "id": "moderate-palace",
   "metadata": {},
   "outputs": [
    {
     "name": "stdout",
     "output_type": "stream",
     "text": [
      "Accuracy: 0.9531886024423338\n",
      "Recall: 0.9573690621193667\n",
      "FPR: 0.05206738131699847 \n",
      "\n",
      "Accuracy: 0.9317051108095884\n",
      "Recall: 0.9398862713241267\n",
      "FPR: 0.07857142857142857 \n",
      "\n",
      "\n",
      "Accuracy: 0.9632519222071461\n",
      "Recall: 0.9665042630937881\n",
      "FPR: 0.0408371618172537 \n",
      "\n",
      "Accuracy: 0.9393939393939394\n",
      "Recall: 0.9545085296506904\n",
      "FPR: 0.07959183673469387 \n",
      "\n",
      "Random Forest performs best with least no of false positives and high accuracy and recall, hence we will go forward with this algorithm\n"
     ]
    }
   ],
   "source": [
    "filename_dt = 'SVM_Final_Model.pkl'\n",
    "loaded_model = pickle.load(open(filename_dt, 'rb'))\n",
    "tp, fn, fp, tn = metrics.confusion_matrix(y_train_red, loaded_model.predict(X_train_red_onehot)).ravel()\n",
    "accuracy = (tn+tp)/(fp+fn+tp+tn)\n",
    "recall = tp/(tp+fn)\n",
    "fpr = fp/(fp+tn)\n",
    "print(\"Accuracy:\",accuracy)\n",
    "print(\"Recall:\",recall)\n",
    "print(\"FPR:\",fpr,\"\\n\")\n",
    "\n",
    "filename_dt = 'SVM_Final_Model.pkl'\n",
    "loaded_model = pickle.load(open(filename_dt, 'rb'))\n",
    "tp, fn, fp, tn = metrics.confusion_matrix(y_test_red, loaded_model.predict(X_test_red_onehot)).ravel()\n",
    "accuracy = (tn+tp)/(fp+fn+tp+tn)\n",
    "recall = tp/(tp+fn)\n",
    "fpr = fp/(fp+tn)\n",
    "print(\"Accuracy:\",accuracy)\n",
    "print(\"Recall:\",recall)\n",
    "print(\"FPR:\",fpr,\"\\n\")\n",
    "\n",
    "print(\"\")\n",
    "\n",
    "filename_dt = 'RF_Final_Model.pkl'\n",
    "loaded_model = pickle.load(open(filename_dt, 'rb'))\n",
    "tp, fn, fp, tn = metrics.confusion_matrix(y_train_red, loaded_model.predict(X_train_red_onehot)).ravel()\n",
    "accuracy = (tn+tp)/(fp+fn+tp+tn)\n",
    "recall = tp/(tp+fn)\n",
    "fpr = fp/(fp+tn)\n",
    "print(\"Accuracy:\",accuracy)\n",
    "print(\"Recall:\",recall)\n",
    "print(\"FPR:\",fpr,\"\\n\")\n",
    "\n",
    "filename_dt = 'RF_Final_Model.pkl'\n",
    "loaded_model = pickle.load(open(filename_dt, 'rb'))\n",
    "tp, fn, fp, tn = metrics.confusion_matrix(y_test_red, loaded_model.predict(X_test_red_onehot)).ravel()\n",
    "accuracy = (tn+tp)/(fp+fn+tp+tn)\n",
    "recall = tp/(tp+fn)\n",
    "fpr = fp/(fp+tn)\n",
    "print(\"Accuracy:\",accuracy)\n",
    "print(\"Recall:\",recall)\n",
    "print(\"FPR:\",fpr,\"\\n\")\n",
    "\n",
    "print(\"Random Forest performs best with least no of false positives and high accuracy and recall, hence we will go forward with this algorithm\")\n"
   ]
  },
  {
   "cell_type": "code",
   "execution_count": 34,
   "id": "minus-fighter",
   "metadata": {},
   "outputs": [],
   "source": [
    "# from sklearn.manifold import TSNE\n",
    "\n",
    "# def tsne_analysis():\n",
    "#     \"\"\" For TSNE analysis on the training dataset with \n",
    "#     last hidden layer output\"\"\"\n",
    "\n",
    "#     filename_dt = 'RF_Final_Model'\n",
    "#     loaded_model = pickle.load(open(filename_dt, 'rb'))\n",
    "  \n",
    "#     hidden_opt = loaded_model.predict_proba(X_train_red_onehot)\n",
    "#     df = pd.DataFrame(hidden_opt)\n",
    "#     df['y'] = y_train_red\n",
    "#     df['label'] = df['y'].apply(lambda i: str(i))\n",
    "#     tsne = TSNE(n_components = 2, perplexity = 50, verbose = 1, n_iter = 1000)\n",
    "#     tsne_res = tsne.fit_transform(hidden_opt)\n",
    "\n",
    "#     df['TSNE 1st component'] = tsne_res[:,0]\n",
    "#     df['TSNE 2nd component'] = tsne_res[:,1]\n",
    "\n",
    "#     sns.scatterplot(\n",
    "#         x = \"TSNE 1st component\", y = \"TSNE 2nd component\",\n",
    "#         hue = 'y',\n",
    "#         palette = sns.color_palette(\"hls\", 2),\n",
    "#         data = df,\n",
    "#         legend = \"full\",\n",
    "#         alpha = 0.3\n",
    "#     )\n",
    "#     plt.show()\n",
    "\n",
    "# tsne_analysis()"
   ]
  },
  {
   "cell_type": "code",
   "execution_count": null,
   "id": "surprised-approval",
   "metadata": {},
   "outputs": [],
   "source": []
  }
 ],
 "metadata": {
  "kernelspec": {
   "display_name": "Python 3",
   "language": "python",
   "name": "python3"
  },
  "language_info": {
   "codemirror_mode": {
    "name": "ipython",
    "version": 3
   },
   "file_extension": ".py",
   "mimetype": "text/x-python",
   "name": "python",
   "nbconvert_exporter": "python",
   "pygments_lexer": "ipython3",
   "version": "3.9.2"
  }
 },
 "nbformat": 4,
 "nbformat_minor": 5
}
